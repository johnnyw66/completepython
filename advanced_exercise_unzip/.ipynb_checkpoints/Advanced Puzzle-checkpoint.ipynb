{
 "cells": [
  {
   "cell_type": "code",
   "execution_count": 23,
   "metadata": {},
   "outputs": [
    {
     "name": "stdout",
     "output_type": "stream",
     "text": [
      "Found Pattern in extracted_puzzle/extracted_content/Four/EMTGPSXQEJX.txt ['719-266-2837']\n"
     ]
    }
   ],
   "source": [
    "import zipfile\n",
    "import os\n",
    "import re\n",
    "\n",
    "def search_pattern(fname,pattern):\n",
    "    #print(f\"\\tSearch for phones in {fname}\")\n",
    "    with open(fname,\"r\") as fh:\n",
    "        txt = fh.read()\n",
    "        fh.close()\n",
    "\n",
    "    res = re.findall(pattern,txt)\n",
    "    ##>>> phone = re.search(r'\\d{3}-\\d{3}-\\d{4}',text)\n",
    "    #print(res,type(res))\n",
    "    return res \n",
    "\n",
    "zip_obj = zipfile.ZipFile('unzip_me_for_instructions.zip','r')\n",
    "zip_obj.extractall(\"extracted_puzzle\")\n",
    "os.listdir(\"extracted_puzzle\")\n",
    "#Within one of these text files is a telephone number formated ###-###-#### \n",
    "phone_pattern = r'\\d{3}-\\d{3}-\\d{4}'\n",
    "\n",
    "for folder , sub_folders , files in os.walk(\"extracted_puzzle\"):\n",
    "    \n",
    "    for f in files:\n",
    "        ffname = folder +\"/\" + f\n",
    "        found = search_pattern(ffname, phone_pattern) \n",
    "        if (len(found) > 0):\n",
    "            print(f\"Found Pattern in {ffname} {found}\")\n",
    "    "
   ]
  },
  {
   "cell_type": "code",
   "execution_count": null,
   "metadata": {},
   "outputs": [],
   "source": []
  }
 ],
 "metadata": {
  "kernelspec": {
   "display_name": "Python 3",
   "language": "python",
   "name": "python3"
  },
  "language_info": {
   "codemirror_mode": {
    "name": "ipython",
    "version": 3
   },
   "file_extension": ".py",
   "mimetype": "text/x-python",
   "name": "python",
   "nbconvert_exporter": "python",
   "pygments_lexer": "ipython3",
   "version": "3.8.3"
  }
 },
 "nbformat": 4,
 "nbformat_minor": 4
}
