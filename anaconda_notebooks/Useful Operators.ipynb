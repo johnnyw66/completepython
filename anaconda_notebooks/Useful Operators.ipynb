{
 "cells": [
  {
   "cell_type": "code",
   "execution_count": 2,
   "metadata": {},
   "outputs": [
    {
     "name": "stdout",
     "output_type": "stream",
     "text": [
      "range(0, 10)\n",
      "[0, 1, 2, 3, 4, 5, 6, 7, 8, 9]\n"
     ]
    }
   ],
   "source": [
    "x = range(10) # 0 to 9\n",
    "print(x)\n",
    "print(list(x)) # cast to a list"
   ]
  },
  {
   "cell_type": "code",
   "execution_count": 3,
   "metadata": {},
   "outputs": [
    {
     "name": "stdout",
     "output_type": "stream",
     "text": [
      "[0, 2, 4, 6, 8, 10]\n"
     ]
    }
   ],
   "source": [
    "print(list(range(0,11,2)))"
   ]
  },
  {
   "cell_type": "code",
   "execution_count": 7,
   "metadata": {},
   "outputs": [
    {
     "name": "stdout",
     "output_type": "stream",
     "text": [
      "(0, 'H')\n",
      "(1, 'e')\n",
      "(2, 'l')\n",
      "(3, 'l')\n",
      "(4, 'o')\n",
      "(5, ' ')\n",
      "(6, 'W')\n",
      "(7, 'o')\n",
      "(8, 'r')\n",
      "(9, 'l')\n",
      "(10, 'd')\n",
      "char at position 0 is H\n",
      "char at position 1 is e\n",
      "char at position 2 is l\n",
      "char at position 3 is l\n",
      "char at position 4 is o\n",
      "char at position 5 is  \n",
      "char at position 6 is W\n",
      "char at position 7 is o\n",
      "char at position 8 is r\n",
      "char at position 9 is l\n",
      "char at position 10 is d\n"
     ]
    }
   ],
   "source": [
    "# Enumerate  **** USEFUL ****\n",
    "word = 'Hello World'\n",
    "for item in enumerate(word):\n",
    "    print(item)  # produce a (index,value) tuple\n",
    "    \n",
    "for index,value in enumerate(word):\n",
    "    print(f\"char at position {index} is {value}\")  \n",
    "    "
   ]
  },
  {
   "cell_type": "code",
   "execution_count": 10,
   "metadata": {},
   "outputs": [
    {
     "name": "stdout",
     "output_type": "stream",
     "text": [
      "(0, 0)\n",
      "(1, 2)\n",
      "(2, 4)\n",
      "(3, 6)\n",
      "(4, 8)\n",
      "Value at 0 is 0\n",
      "Value at 1 is 2\n",
      "Value at 2 is 4\n",
      "Value at 3 is 6\n",
      "Value at 4 is 8\n"
     ]
    }
   ],
   "source": [
    "for item in enumerate(range(0,10,2)):\n",
    "    print(item)\n",
    "\n",
    "    \n",
    "for index,value in enumerate(range(0,10,2)):\n",
    "    print(f\"Value at {index} is {value}\")  \n"
   ]
  },
  {
   "cell_type": "code",
   "execution_count": 14,
   "metadata": {},
   "outputs": [
    {
     "name": "stdout",
     "output_type": "stream",
     "text": [
      "<zip object at 0x114a2d4c0>\n",
      "[(1, 'a'), (2, 'b'), (3, 'c')]\n",
      "{(1, 'a'), (3, 'c'), (2, 'b')}\n"
     ]
    }
   ],
   "source": [
    "# Zip function **** USEFUL ***\n",
    "\n",
    "myList1 = [1,2,3,4,5]\n",
    "myList2 = ['a','b','c']\n",
    "\n",
    "print(zip(myList1, myList2))\n",
    "print(list(zip(myList1, myList2)))\n",
    "\n",
    "print(set(zip(myList1, myList2)))\n",
    "\n",
    "\n",
    "\n",
    "\n",
    "\n",
    "\n"
   ]
  },
  {
   "cell_type": "code",
   "execution_count": 15,
   "metadata": {},
   "outputs": [
    {
     "data": {
      "text/plain": [
       "True"
      ]
     },
     "execution_count": 15,
     "metadata": {},
     "output_type": "execute_result"
    }
   ],
   "source": [
    "# 'in' operator on sets\n",
    "2 in {1,2,3}\n"
   ]
  },
  {
   "cell_type": "code",
   "execution_count": null,
   "metadata": {},
   "outputs": [],
   "source": []
  },
  {
   "cell_type": "code",
   "execution_count": 17,
   "metadata": {},
   "outputs": [
    {
     "data": {
      "text/plain": [
       "True"
      ]
     },
     "execution_count": 17,
     "metadata": {},
     "output_type": "execute_result"
    }
   ],
   "source": [
    "# 'in' on strings\n",
    "print('e' in 'This is a tast')\n",
    "print('e' in 'This is a test')\n"
   ]
  },
  {
   "cell_type": "code",
   "execution_count": 20,
   "metadata": {},
   "outputs": [
    {
     "name": "stdout",
     "output_type": "stream",
     "text": [
      "False\n",
      "True\n"
     ]
    }
   ],
   "source": [
    "# 'in' on tuples\n",
    "print(3 in (2,33,4))\n",
    "print(3 in (2,3,4))\n",
    "      \n"
   ]
  },
  {
   "cell_type": "code",
   "execution_count": 22,
   "metadata": {},
   "outputs": [
    {
     "name": "stdout",
     "output_type": "stream",
     "text": [
      "False\n",
      "True\n"
     ]
    }
   ],
   "source": [
    "# 'in' on dictionaries\n",
    "print('someKey' in {'a':2, 'b' : 3, 'c' : 4})\n",
    "print('someKey' in {'a':2, 'someKey' : 3, 'c' : 4})\n",
    "\n"
   ]
  },
  {
   "cell_type": "code",
   "execution_count": 41,
   "metadata": {},
   "outputs": [
    {
     "name": "stdout",
     "output_type": "stream",
     "text": [
      "Dictionary {'k1': 1, 'k2': 2, 'k3': 3}\n",
      "4 in d.values() False\n",
      "3 in d.values() True\n",
      "k3 in d True\n",
      "k66 in d False\n",
      "k1 in d.keys() (using 'in d.keys()') True\n",
      "k55 in d.keys() (using 'in d.keys()' False\n"
     ]
    }
   ],
   "source": [
    "# 'in' on dictionaries\n",
    "d = {'k1' : 1, 'k2' : 2, 'k3' : 3}\n",
    "print(\"Dictionary\",d)\n",
    "print(\"4 in d.values()\",4 in d.values())\n",
    "print(\"3 in d.values()\",3 in d.values())\n",
    "print(\"k3 in d\",'k3' in d)\n",
    "print(\"k66 in d\",'k66' in d)\n",
    "\n",
    "print(\"k1 in d.keys() (using 'in d.keys()')\",'k1' in d.keys())\n",
    "print(\"k55 in d.keys() (using 'in d.keys()'\", 'k55' in d.keys())  # same as 'k55' in d\n",
    "\n",
    "\n"
   ]
  },
  {
   "cell_type": "code",
   "execution_count": 42,
   "metadata": {},
   "outputs": [
    {
     "name": "stdout",
     "output_type": "stream",
     "text": [
      "Min  4\n",
      "Max  100\n"
     ]
    }
   ],
   "source": [
    "# Min and Max functions on lists\n",
    "myList = [10,20,4,100]\n",
    "print(\"Min \",min(myList))\n",
    "print(\"Max \",max(myList))\n",
    "\n"
   ]
  },
  {
   "cell_type": "code",
   "execution_count": 64,
   "metadata": {},
   "outputs": [
    {
     "name": "stdout",
     "output_type": "stream",
     "text": [
      "[40, 33, 44, 18, 14, 10, 51, 2, 48, 27, 50, 32, 29, 15, 34, 7, 35, 12, 45, 47, 11, 31, 13, 41, 36, 25, 37, 21, 24, 20, 43, 39, 26, 17, 49, 30, 42, 3, 0, 19, 5, 6, 23, 8, 16, 38, 46, 9, 22, 1, 4, 28]\n",
      "[40, 33, 44, 18]\n",
      "40\n",
      "1\n"
     ]
    }
   ],
   "source": [
    "# Random function\n",
    "from random import shuffle\n",
    "from random import randint\n",
    "\n",
    "cards = list(range(0,52))\n",
    "\n",
    "shuffle(cards)\n",
    "hand1 = cards[:4]\n",
    "print(cards)\n",
    "print(hand1)\n",
    "print(hand1.pop(0))\n",
    "\n",
    "print(randint(0,6))\n"
   ]
  },
  {
   "cell_type": "code",
   "execution_count": 66,
   "metadata": {},
   "outputs": [
    {
     "name": "stdout",
     "output_type": "stream",
     "text": [
      "Enter a Number: 44\n",
      "You have entered 44 type is <class 'str'>\n",
      "44\n",
      "44 <class 'int'>\n"
     ]
    }
   ],
   "source": [
    "# Raw input (note 'input' returns a 'string' type result)\n",
    "\n",
    "someStringNumber = input('Enter a Number: ')\n",
    "print(f'You have entered {someStringNumber} type is %s' % (type(someStringNumber)))\n",
    "print(someStringNumber)\n",
    "number = int(someStringNumber)\n",
    "print(number,type(number))"
   ]
  },
  {
   "cell_type": "code",
   "execution_count": null,
   "metadata": {},
   "outputs": [],
   "source": []
  },
  {
   "cell_type": "code",
   "execution_count": null,
   "metadata": {},
   "outputs": [],
   "source": []
  }
 ],
 "metadata": {
  "kernelspec": {
   "display_name": "Python 3",
   "language": "python",
   "name": "python3"
  },
  "language_info": {
   "codemirror_mode": {
    "name": "ipython",
    "version": 3
   },
   "file_extension": ".py",
   "mimetype": "text/x-python",
   "name": "python",
   "nbconvert_exporter": "python",
   "pygments_lexer": "ipython3",
   "version": "3.8.3"
  }
 },
 "nbformat": 4,
 "nbformat_minor": 4
}
