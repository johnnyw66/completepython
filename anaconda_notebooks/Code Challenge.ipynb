{
 "cells": [
  {
   "cell_type": "code",
   "execution_count": 14,
   "metadata": {},
   "outputs": [
    {
     "name": "stdout",
     "output_type": "stream",
     "text": [
      "{'g': 15, ' ': 36, 'f': 9, 'm': 10, 'n': 4, 'c': 12, 'w': 5, 's': 4, 'b': 8, 'l': 16, 'r': 18, 'p': 8, 'y': 12, 'q': 12, 'j': 4, 'z': 2, '.': 6, 'u': 3, 'a': 3, 'k': 4, 'd': 3, 'e': 4, \"'\": 1, 'v': 1, 'i': 1, '(': 1, ')': 1}\n",
      "['g', 'fmnc', 'wms', 'bgblr', 'rpylqjyrc', 'gr', 'zw', 'fylb.', 'rfyrq', 'ufyr', 'amknsrcpq', 'ypc', 'dmp.', 'bmgle', 'gr', 'gl', 'zw', 'fylb', 'gq', 'glcddgagclr', 'ylb', \"rfyr'q\", 'ufw', 'rfgq', 'rcvr', 'gq', 'qm', 'jmle.', 'sqgle', 'qrpgle.kyicrpylq()', 'gq', 'pcamkkclbcb.', 'lmu', 'ynnjw', 'ml', 'rfc', 'spj.']\n"
     ]
    }
   ],
   "source": [
    "#http://www.pythonchallenge.com/pc/def/map.html\n",
    "\n",
    "code = \"\"\"g fmnc wms bgblr rpylqjyrc gr zw fylb. rfyrq ufyr amknsrcpq ypc dmp. bmgle gr gl zw fylb gq glcddgagclr ylb rfyr'q ufw rfgq rcvr gq qm jmle. sqgle qrpgle.kyicrpylq() gq pcamkkclbcb. lmu ynnjw ml rfc spj.\"\"\"\n",
    "#myListChars = [ value for index,value in enumerate(code)]\n",
    "#myListChars = [ch for ch in code]\n",
    "#print(myListChars)\n",
    "d = {}\n",
    "for ch in code:\n",
    "    if (not ch in d):\n",
    "        d[ch] = 0 \n",
    "    d[ch] += 1\n",
    "\n",
    "print(d)\n",
    "# T(g) in (a,i)\n",
    "# T(r) in (a,e,i,o,u) - T(g)\n",
    "# T(l) in (a,e,i,o,u) - T(r)\n",
    "# T(y) in (a,e,i,o,u) - T(l)\n",
    "# T(q) in (a,e,i,o,u) - T(y)\n",
    "# T(c) in (a,e,i,o,u) - T(q)\n",
    "\n",
    "# Char -> Freq\n",
    "# r -> 18, l -> 16, g -> 15, \n",
    "# y -> 12, q -> 12, c -> 12\n",
    "# m -> 10, f -> 9, \n",
    "# b -> 8, p -> 8, \n",
    "# w -> 5, \n",
    "# s -> 4, j -> 4, e -> 4, k -> 4, n -> 4\n",
    "# u -> 3, a -> 3, d -> 3\n",
    "# z -> 2\n",
    "# v -> 1, i -> 1\n",
    "sentenceList = [ value for index,value in enumerate(code.split())]\n",
    "print(sentenceList)"
   ]
  },
  {
   "cell_type": "code",
   "execution_count": null,
   "metadata": {},
   "outputs": [],
   "source": []
  },
  {
   "cell_type": "code",
   "execution_count": null,
   "metadata": {},
   "outputs": [],
   "source": []
  },
  {
   "cell_type": "code",
   "execution_count": null,
   "metadata": {},
   "outputs": [],
   "source": []
  }
 ],
 "metadata": {
  "kernelspec": {
   "display_name": "Python 3",
   "language": "python",
   "name": "python3"
  },
  "language_info": {
   "codemirror_mode": {
    "name": "ipython",
    "version": 3
   },
   "file_extension": ".py",
   "mimetype": "text/x-python",
   "name": "python",
   "nbconvert_exporter": "python",
   "pygments_lexer": "ipython3",
   "version": "3.8.3"
  }
 },
 "nbformat": 4,
 "nbformat_minor": 4
}
