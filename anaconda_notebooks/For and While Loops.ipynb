{
 "cells": [
  {
   "cell_type": "code",
   "execution_count": 17,
   "metadata": {},
   "outputs": [
    {
     "name": "stdout",
     "output_type": "stream",
     "text": [
      "1234 <class 'str'> 4\n",
      "1\n",
      "2\n",
      "3\n",
      "4\n"
     ]
    }
   ],
   "source": [
    "choice = 4\n",
    "if (choice == 1):\n",
    "    my_iterable = [1,2,3,4]\n",
    "elif (choice == 2):\n",
    "    my_iterable = set([1,2,2,2,2,3,4,4,4,4,4])\n",
    "elif (choice == 3):\n",
    "    my_iterable = (1,2,3,4)\n",
    "elif (choice == 4):\n",
    "    my_iterable = \"1234\"\n",
    "else:\n",
    "    my_iterable = ()\n",
    "    \n",
    "print(my_iterable, type(my_iterable),len(my_iterable))\n",
    "for item in my_iterable:\n",
    "    print(item)"
   ]
  },
  {
   "cell_type": "code",
   "execution_count": 16,
   "metadata": {},
   "outputs": [
    {
     "name": "stdout",
     "output_type": "stream",
     "text": [
      "H\n",
      "e\n",
      "l\n",
      "l\n",
      "o\n",
      " \n",
      "W\n",
      "o\n",
      "r\n",
      "l\n",
      "d\n"
     ]
    }
   ],
   "source": [
    "for ch in 'Hello World':\n",
    "    print(ch)"
   ]
  },
  {
   "cell_type": "code",
   "execution_count": 22,
   "metadata": {},
   "outputs": [
    {
     "name": "stdout",
     "output_type": "stream",
     "text": [
      "(1, 2)\n",
      "(3, 4)\n",
      "(5, 6)\n",
      "(7, 8)\n",
      "1\n",
      "2\n",
      "3\n",
      "4\n",
      "5\n",
      "6\n",
      "7\n",
      "8\n"
     ]
    }
   ],
   "source": [
    "myList = [(1,2), (3,4), (5,6), (7,8)]\n",
    "\n",
    "for item in myList:\n",
    "    print(item)\n",
    "\n",
    "for (a,b) in myList:\n",
    "    print(a)\n",
    "    print(b)\n",
    "    "
   ]
  },
  {
   "cell_type": "code",
   "execution_count": 35,
   "metadata": {},
   "outputs": [
    {
     "name": "stdout",
     "output_type": "stream",
     "text": [
      "k1\n",
      "k2\n",
      "k3\n",
      "k4\n",
      "1\n",
      "2\n",
      "3\n",
      "4\n",
      "('k1', 1)\n",
      "('k2', 2)\n",
      "('k3', 3)\n",
      "('k4', 4)\n",
      "Key =  k1 Value = 1\n",
      "Key =  k2 Value = 2\n",
      "Key =  k3 Value = 3\n",
      "Key =  k4 Value = 4\n"
     ]
    }
   ],
   "source": [
    "d = {'k1' : 1, 'k2' : 2, 'k3' : 3, 'k4' : 4}\n",
    "\n",
    "for item in d.keys():\n",
    "    print(item)\n",
    "for item in d.values():\n",
    "    print(item)\n",
    "for item in d.items():\n",
    "    print(item)\n",
    "    \n",
    "for (key,value) in d.items():\n",
    "    print(\"Key = \",key,\"Value =\",value)"
   ]
  },
  {
   "cell_type": "code",
   "execution_count": 37,
   "metadata": {},
   "outputs": [
    {
     "name": "stdout",
     "output_type": "stream",
     "text": [
      "Key =  k1 Value = 1\n",
      "Key =  k2 Value = 2\n",
      "Key =  k3 Value = 3\n",
      "Key =  k4 Value = 4\n"
     ]
    }
   ],
   "source": [
    "# MOST IMPORTANT DICTIONARY ITERATION\n",
    "d = {'k1' : 1, 'k2' : 2, 'k3' : 3, 'k4' : 4}\n",
    "for (key,value) in d.items():\n",
    "    print(\"Key = \",key,\"Value =\",value)\n"
   ]
  },
  {
   "cell_type": "code",
   "execution_count": 40,
   "metadata": {},
   "outputs": [
    {
     "name": "stdout",
     "output_type": "stream",
     "text": [
      "X = 0\n",
      "X = 1\n",
      "X = 2\n",
      "X = 3\n",
      "X = 4\n",
      "Completed While loop\n"
     ]
    }
   ],
   "source": [
    "x = 0\n",
    "while x < 5:\n",
    "    print(f\"X = {x}\")\n",
    "    x += 1\n",
    "else:\n",
    "    print(\"Completed While loop\")"
   ]
  },
  {
   "cell_type": "code",
   "execution_count": 44,
   "metadata": {},
   "outputs": [
    {
     "ename": "SyntaxError",
     "evalue": "invalid syntax (<ipython-input-44-d91157c6443e>, line 7)",
     "output_type": "error",
     "traceback": [
      "\u001b[0;36m  File \u001b[0;32m\"<ipython-input-44-d91157c6443e>\"\u001b[0;36m, line \u001b[0;32m7\u001b[0m\n\u001b[0;31m    if (x == 5) break\u001b[0m\n\u001b[0m                ^\u001b[0m\n\u001b[0;31mSyntaxError\u001b[0m\u001b[0;31m:\u001b[0m invalid syntax\n"
     ]
    }
   ],
   "source": [
    "# 'pass' used as a dummy statement to get through Python 'compile' error\n",
    "\n",
    "x = [1,2,3,4,5]\n",
    "\n",
    "for item in x:\n",
    "     pass\n",
    "#    print(\"Hello\")\n",
    "\n",
    "print(\"Loop Completed\")\n"
   ]
  },
  {
   "cell_type": "code",
   "execution_count": 46,
   "metadata": {},
   "outputs": [
    {
     "name": "stdout",
     "output_type": "stream",
     "text": [
      "Loop 0\n",
      "Loop 1\n",
      "Loop 2\n",
      "Loop 3\n",
      "Loop 4\n",
      "Loop Completed\n"
     ]
    }
   ],
   "source": [
    "\n",
    "for item in range(0,100):\n",
    "    if (item == 5): break\n",
    "    print(f\"Loop {item}\")\n",
    "\n",
    "print(\"Loop Completed\")\n"
   ]
  },
  {
   "cell_type": "code",
   "execution_count": 48,
   "metadata": {},
   "outputs": [
    {
     "name": "stdout",
     "output_type": "stream",
     "text": [
      "Loop 0\n",
      "Loop 1\n",
      "Loop 2\n",
      "Loop 3\n",
      "Loop 4\n",
      "Loop 5\n",
      "Loop 6\n",
      "Loop 7\n",
      "Loop 8\n",
      "Loop 9\n",
      "Loop 16\n",
      "Loop 17\n",
      "Loop 18\n",
      "Loop 19\n",
      "Loop Completed\n"
     ]
    }
   ],
   "source": [
    "for item in range(0,20):\n",
    "    if (item > 9 and item < 16): continue\n",
    "    print(f\"Loop {item}\")\n",
    "\n",
    "print(\"Loop Completed\")"
   ]
  },
  {
   "cell_type": "code",
   "execution_count": null,
   "metadata": {},
   "outputs": [],
   "source": []
  }
 ],
 "metadata": {
  "kernelspec": {
   "display_name": "Python 3",
   "language": "python",
   "name": "python3"
  },
  "language_info": {
   "codemirror_mode": {
    "name": "ipython",
    "version": 3
   },
   "file_extension": ".py",
   "mimetype": "text/x-python",
   "name": "python",
   "nbconvert_exporter": "python",
   "pygments_lexer": "ipython3",
   "version": "3.8.3"
  }
 },
 "nbformat": 4,
 "nbformat_minor": 4
}
