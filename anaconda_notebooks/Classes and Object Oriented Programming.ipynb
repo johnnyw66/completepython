{
 "cells": [
  {
   "cell_type": "code",
   "execution_count": 43,
   "metadata": {},
   "outputs": [
    {
     "name": "stdout",
     "output_type": "stream",
     "text": [
      "I am a Static Method 'Some Static Class Attribute''\n",
      "Create Object\n",
      "SuperTest _init_ 25\n",
      "Draw SuperTest 25\n",
      "Draw Test\n"
     ]
    },
    {
     "data": {
      "text/plain": [
       "(22, 25, 'Some Class Attribute', 'Some Class Attribute')"
      ]
     },
     "execution_count": 43,
     "metadata": {},
     "output_type": "execute_result"
    }
   ],
   "source": [
    "class SuperTest():\n",
    "    classAttribute = 'Some Class Attribute'\n",
    "    \n",
    "    def __init__(self,y):\n",
    "        self.y = y \n",
    "        print(\"SuperTest _init_\",self.y)\n",
    "\n",
    "    def draw(self):\n",
    "        print(\"Draw SuperTest\",self.y)\n",
    "        \n",
    "class Test(SuperTest):\n",
    "\n",
    "    someClassAttribute = 'Some Static Class Attribute'\n",
    "    \n",
    "    def __init__(self, x):\n",
    "        print(\"Create Object\")\n",
    "        super().__init__(x + 3)\n",
    "        self.x = x\n",
    "    \n",
    "    def draw(self):\n",
    "        super().draw()\n",
    "        print(\"Draw Test\")\n",
    "\n",
    "    @staticmethod\n",
    "    def myStaticMethod():\n",
    "        print(f\"I am a Static Method '{Test.someClassAttribute}''\")\n",
    "\n",
    "        \n",
    "\n",
    "\n",
    "\n",
    "Test.myStaticMethod()\n",
    "\n",
    "test = Test(22)\n",
    "test.draw() \n",
    "test.x,test.y,Test.classAttribute,test.classAttribute\n",
    "\n",
    "\n",
    "\n",
    "    "
   ]
  },
  {
   "cell_type": "code",
   "execution_count": 64,
   "metadata": {},
   "outputs": [
    {
     "name": "stdout",
     "output_type": "stream",
     "text": [
      "Dog Create\n",
      "Cat Create\n",
      "Woof!! My name is Fido\n",
      "Meow!! My name is Ruby\n"
     ]
    }
   ],
   "source": [
    "# Animal Abstract Classes and Polymorphism\n",
    "class AnimalAbstract:\n",
    "    def __init__(self, name, sound):\n",
    "        self.name = name\n",
    "        self.sound = sound\n",
    "\n",
    "    def speak(self):\n",
    "        raise NotImplementedError('Not Yet Implemented!')\n",
    "\n",
    "class Dog(AnimalAbstract):\n",
    "    \n",
    "    def __init__(self,name, sound):\n",
    "        print(f\"Dog Create\")\n",
    "        super().__init__(name, sound)\n",
    "        \n",
    "    def speak(self):\n",
    "        print(f\"{self.sound}! My name is {self.name}\")\n",
    "    \n",
    "class Cat(AnimalAbstract):\n",
    "    \n",
    "    def __init__(self,name, sound):\n",
    "        print(f\"Cat Create\")\n",
    "        super().__init__(name, sound)\n",
    "        \n",
    "    def speak(self):\n",
    "        print(f\"{self.sound}! My name is {self.name}\")\n",
    "\n",
    "    \n",
    "def animalSpeak(pet):\n",
    "    pet.speak() \n",
    "        \n",
    "        \n",
    "fido = Dog('Fido','Woof!')\n",
    "felix = Cat('Ruby','Meow!')\n",
    "\n",
    "animalSpeak(fido)\n",
    "animalSpeak(felix)\n",
    "\n",
    "\n"
   ]
  },
  {
   "cell_type": "code",
   "execution_count": 7,
   "metadata": {},
   "outputs": [
    {
     "name": "stdout",
     "output_type": "stream",
     "text": [
      "title Cracking the Code author John Wilson pages 293\n",
      "293\n",
      "Deleting Cracking the Code by John Wilson\n"
     ]
    },
    {
     "ename": "NameError",
     "evalue": "name 'b' is not defined",
     "output_type": "error",
     "traceback": [
      "\u001b[0;31m---------------------------------------------------------------------------\u001b[0m",
      "\u001b[0;31mNameError\u001b[0m                                 Traceback (most recent call last)",
      "\u001b[0;32m<ipython-input-7-a5aaccc0b662>\u001b[0m in \u001b[0;36m<module>\u001b[0;34m\u001b[0m\n\u001b[1;32m     23\u001b[0m \u001b[0mprint\u001b[0m\u001b[0;34m(\u001b[0m\u001b[0mlen\u001b[0m\u001b[0;34m(\u001b[0m\u001b[0mb\u001b[0m\u001b[0;34m)\u001b[0m\u001b[0;34m)\u001b[0m\u001b[0;34m\u001b[0m\u001b[0;34m\u001b[0m\u001b[0m\n\u001b[1;32m     24\u001b[0m \u001b[0;32mdel\u001b[0m \u001b[0mb\u001b[0m \u001b[0;31m# De\u001b[0m\u001b[0;34m\u001b[0m\u001b[0;34m\u001b[0m\u001b[0m\n\u001b[0;32m---> 25\u001b[0;31m \u001b[0mprint\u001b[0m\u001b[0;34m(\u001b[0m\u001b[0mb\u001b[0m\u001b[0;34m)\u001b[0m\u001b[0;34m\u001b[0m\u001b[0;34m\u001b[0m\u001b[0m\n\u001b[0m",
      "\u001b[0;31mNameError\u001b[0m: name 'b' is not defined"
     ]
    }
   ],
   "source": [
    "# Special Methods 'toString' __str__\n",
    "\n",
    "class Book():\n",
    "    \n",
    "    def __init__(self, title, author, pages = 0):\n",
    "        self.title = title\n",
    "        self.author = author\n",
    "        self.pages = pages\n",
    "    \n",
    "    \n",
    "    def __str__(self):\n",
    "        return f\"title {self.title} author {self.author} pages {self.pages}\"\n",
    "\n",
    "    def __len__(self):\n",
    "        return self.pages \n",
    "    \n",
    "    def __del__(self):\n",
    "        print(f\"Deleting {self.title} by {self.author}\")\n",
    "        \n",
    "    \n",
    "b = Book(\"Cracking the Code\", \"John Wilson\",293)\n",
    "print(b)\n",
    "print(len(b))\n",
    "del b # De\n",
    "print(b)"
   ]
  },
  {
   "cell_type": "code",
   "execution_count": null,
   "metadata": {},
   "outputs": [],
   "source": []
  }
 ],
 "metadata": {
  "kernelspec": {
   "display_name": "Python 3",
   "language": "python",
   "name": "python3"
  },
  "language_info": {
   "codemirror_mode": {
    "name": "ipython",
    "version": 3
   },
   "file_extension": ".py",
   "mimetype": "text/x-python",
   "name": "python",
   "nbconvert_exporter": "python",
   "pygments_lexer": "ipython3",
   "version": "3.8.3"
  }
 },
 "nbformat": 4,
 "nbformat_minor": 4
}
