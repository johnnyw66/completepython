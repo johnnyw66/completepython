{
 "cells": [
  {
   "cell_type": "code",
   "execution_count": null,
   "metadata": {},
   "outputs": [],
   "source": [
    "def extradecorate(f):\n",
    "    def decoration(*args,**kwargs):\n",
    "\n",
    "        print(f\"START extradecorate  {args} {kwargs}\")\n",
    "        res = f(*args,**kwargs)\n",
    "        print(f\"END extradecorate {res}\")\n",
    "        return res\n",
    "\n",
    "    return decoration\n",
    "\n",
    "\n",
    "def decorate(f):\n",
    "    def decoration(*args,**kwargs):\n",
    "        print(f\"START decorate {args} {kwargs}\")\n",
    "        res = f(*args)\n",
    "        print(f\"END decorate {res}\")\n",
    "        return res\n",
    "\n",
    "    return decoration\n",
    "\n",
    "@extradecorate\n",
    "@decorate\n",
    "def simple(a,b,c,d=22):\n",
    "    print(f\"I am in Simple {a} {b} {c} {d}\")\n",
    "    return a ** 2\n",
    "\n",
    "# Above annotation '@decorate' placed above sim is equiv to 'simple = decorate(simple)'\n",
    "\n",
    "simple(22,44,55,99)\n",
    "\n",
    "\n",
    "simple(3,2,1,0)\n"
   ]
  }
 ],
 "metadata": {
  "kernelspec": {
   "display_name": "Python 3",
   "language": "python",
   "name": "python3"
  },
  "language_info": {
   "codemirror_mode": {
    "name": "ipython",
    "version": 3
   },
   "file_extension": ".py",
   "mimetype": "text/x-python",
   "name": "python",
   "nbconvert_exporter": "python",
   "pygments_lexer": "ipython3",
   "version": "3.8.3"
  }
 },
 "nbformat": 4,
 "nbformat_minor": 4
}
