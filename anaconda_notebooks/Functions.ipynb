{
 "cells": [
  {
   "cell_type": "code",
   "execution_count": 27,
   "metadata": {},
   "outputs": [
    {
     "name": "stdout",
     "output_type": "stream",
     "text": [
      "Employee of the Month John\n",
      "Hours Worked 1100\n"
     ]
    }
   ],
   "source": [
    "# Function Tuple unpacking\n",
    "def check_employee_of_the_month(work_hours):\n",
    "    max_hours = -1\n",
    "    #print(work_hours.items())\n",
    "    for (name,hours) in work_hours:\n",
    "        if (hours > max_hours):\n",
    "            max_hours = hours\n",
    "            employee = name\n",
    "    \n",
    "    return (employee,max_hours)\n",
    "\n",
    "work_hours = [('John',1100),('Paul',200),('Colette',300)]\n",
    "work_hours_map = {'John' : 1100, 'Paul' : 200, 'Colette' : 300}\n",
    "\n",
    "name,hours = check_employee_of_the_month(work_hours)\n",
    "print(\"Employee of the Month\",name)\n",
    "print(\"Hours Worked\",hours)\n",
    "\n"
   ]
  },
  {
   "cell_type": "code",
   "execution_count": 46,
   "metadata": {},
   "outputs": [
    {
     "name": "stdout",
     "output_type": "stream",
     "text": [
      "[6, 4, 5, 1, 3, 2]\n"
     ]
    }
   ],
   "source": [
    "from random import shuffle, randint\n",
    "\n",
    "myList = [_ for _ in range(1,7)] \n",
    "shuffle(myList)\n",
    "print(myList)"
   ]
  },
  {
   "cell_type": "code",
   "execution_count": 72,
   "metadata": {},
   "outputs": [
    {
     "name": "stdout",
     "output_type": "stream",
     "text": [
      "Game Number {_}\n",
      "playGame\n",
      "Psst! My shuffle is  ['O', ' ', ' ', ' ']\n",
      "Which Cup 1 to 4? 1\n",
      "***** Correct! *****\n",
      "['O', ' ', ' ', ' ']\n",
      "Wins : 1 Losses : 0\n",
      "Game Number {_}\n",
      "playGame\n",
      "Psst! My shuffle is  [' ', 'O', ' ', ' ']\n",
      "Which Cup 1 to 4? 2\n",
      "***** Correct! *****\n",
      "[' ', 'O', ' ', ' ']\n",
      "Wins : 2 Losses : 0\n",
      "Game Number {_}\n",
      "playGame\n",
      "Psst! My shuffle is  [' ', 'O', ' ', ' ']\n",
      "Which Cup 1 to 4? 1\n",
      "No it is under cup 2\n",
      "[' ', 'O', ' ', ' ']\n",
      "Wins : 2 Losses : 1\n",
      "Game Number {_}\n",
      "playGame\n",
      "Psst! My shuffle is  [' ', ' ', ' ', 'O']\n",
      "Which Cup 1 to 4? 4\n",
      "***** Correct! *****\n",
      "[' ', ' ', ' ', 'O']\n",
      "Wins : 3 Losses : 1\n",
      "Game Number {_}\n",
      "playGame\n",
      "Psst! My shuffle is  [' ', ' ', ' ', 'O']\n",
      "Which Cup 1 to 4? 4\n",
      "***** Correct! *****\n",
      "[' ', ' ', ' ', 'O']\n",
      "Wins : 4 Losses : 1\n",
      "Game Number {_}\n",
      "playGame\n",
      "Psst! My shuffle is  [' ', 'O', ' ', ' ']\n",
      "Which Cup 1 to 4? 2\n",
      "***** Correct! *****\n",
      "[' ', 'O', ' ', ' ']\n",
      "Wins : 5 Losses : 1\n",
      "Game Number {_}\n",
      "playGame\n",
      "Psst! My shuffle is  ['O', ' ', ' ', ' ']\n",
      "Which Cup 1 to 4? 1\n",
      "***** Correct! *****\n",
      "['O', ' ', ' ', ' ']\n",
      "Wins : 6 Losses : 1\n",
      "Game Number {_}\n",
      "playGame\n",
      "Psst! My shuffle is  [' ', ' ', ' ', 'O']\n",
      "Which Cup 1 to 4? 1\n",
      "No it is under cup 4\n",
      "[' ', ' ', ' ', 'O']\n",
      "Wins : 6 Losses : 2\n",
      "Game Number {_}\n",
      "playGame\n",
      "Psst! My shuffle is  [' ', ' ', 'O', ' ']\n",
      "Which Cup 1 to 4? 1\n",
      "No it is under cup 3\n",
      "[' ', ' ', 'O', ' ']\n",
      "Wins : 6 Losses : 3\n",
      "Game Number {_}\n",
      "playGame\n",
      "Psst! My shuffle is  [' ', ' ', 'O', ' ']\n",
      "Which Cup 1 to 4? 3\n",
      "***** Correct! *****\n",
      "[' ', ' ', 'O', ' ']\n",
      "Wins : 7 Losses : 3\n",
      "Done\n"
     ]
    }
   ],
   "source": [
    "from random import shuffle, randint\n",
    "def askGuess(numCups):\n",
    "    ask = -1 \n",
    "    while ask < 1 or ask > numCups:\n",
    "        ask = int(input(f\"Which Cup 1 to {numCups}? \"))\n",
    "    return ask - 1\n",
    "\n",
    "def generateCups(numCups):\n",
    "    cupList = [' '] * numCups\n",
    "    cupList[0] = 'O'\n",
    "    shuffle(cupList)\n",
    "    return cupList\n",
    "\n",
    "def checkGuess(guess,cupList):\n",
    "    if (cupList[guess] == 'O'):\n",
    "        return 1 \n",
    "    else:\n",
    "        return -(cupList.index('O') + 1)\n",
    "\n",
    "def playGame():\n",
    "    print(\"playGame\")\n",
    "    # Generate Cups\n",
    "    myCups = generateCups(4)\n",
    "    print(\"Psst! My shuffle is \",myCups)\n",
    "    guess = askGuess(4)\n",
    "    result = checkGuess(guess,myCups)\n",
    "    if (result > 0):\n",
    "        print(\"***** Correct! *****\")\n",
    "    else:\n",
    "        print(f\"No it is under cup {-result}\")\n",
    "    print(myCups)\n",
    "    return result > 0\n",
    "\n",
    "# Main\n",
    "wins = 0\n",
    "lose = 0\n",
    "for _ in range(0,10):\n",
    "    print(\"Game Number {_}\")\n",
    "    if (playGame()):\n",
    "        wins += 1\n",
    "    else:\n",
    "        lose += 1\n",
    "    print(f\"Wins : {wins} Losses : {lose}\")    \n",
    "    \n",
    "print(\"Done\")\n"
   ]
  },
  {
   "cell_type": "code",
   "execution_count": 75,
   "metadata": {},
   "outputs": [
    {
     "name": "stdout",
     "output_type": "stream",
     "text": [
      "Hello John\n"
     ]
    }
   ],
   "source": [
    "def myfunc(person_name):\n",
    "    print(\"Hello {sname}\".format(sname = person_name))\n",
    "myfunc('John')"
   ]
  },
  {
   "cell_type": "code",
   "execution_count": 77,
   "metadata": {},
   "outputs": [],
   "source": [
    "def myfunc(a):\n",
    "    return 'Hello' if a else 'Goodbye'\n"
   ]
  },
  {
   "cell_type": "code",
   "execution_count": 110,
   "metadata": {},
   "outputs": [
    {
     "name": "stdout",
     "output_type": "stream",
     "text": [
      "handleDict {'a': 1, 'b': 22} <class 'dict'>\n",
      "a <class 'str'> 1 <class 'int'>\n",
      "b <class 'str'> 22 <class 'int'>\n",
      "completed handleDict\n",
      "handleArgs (1, 2, 3, '4', 'hello') <class 'tuple'>\n",
      "(1, 2, 3, '4', 'hello') <class 'tuple'>\n",
      "1\n",
      "2\n",
      "3\n",
      "4\n",
      "hello\n",
      "handleKWargs {'justify': 'left', 'recursive': True} <class 'dict'>\n",
      "kwArgs --> justify <class 'str'> left <class 'str'>\n",
      "kwArgs --> recursive <class 'str'> True <class 'bool'>\n",
      "Checking kwargs...\n",
      "justify left <class 'str'>\n",
      "recursive True <class 'bool'>\n",
      "(1, 2, 3, 4)\n",
      "{'zip': 22, 'zag': 44}\n"
     ]
    }
   ],
   "source": [
    "# Handling mutliple args and keyword args\n",
    "def handleDict(d):\n",
    "    print(\"handleDict\",d,type(d))\n",
    "\n",
    "    for key,value in d.items():\n",
    "        print(key,type(key),value,type(value))\n",
    "    print(\"completed handleDict\")\n",
    "    \n",
    "def handleKWargs(**kwargs):\n",
    "    \"\"\"\n",
    "    Key Word Args is a dictionary\n",
    "    \"\"\"\n",
    "    print(\"handleKWargs\",kwargs,type(kwargs))\n",
    "    for (key,value) in kwargs.items():\n",
    "        print(\"kwArgs -->\",key,type(key),value,type(value))\n",
    "\n",
    "    print(\"Checking kwargs...\")\n",
    "    if 'justify' in kwargs: \n",
    "        print('justify',kwargs['justify'],type(kwargs['justify']))\n",
    "    if 'recursive' in kwargs:\n",
    "        print('recursive',kwargs['recursive'],type(kwargs['recursive']))\n",
    "       \n",
    "def handleArgs(*args):\n",
    "    \"\"\"\n",
    "       args is a 'tuple' \n",
    "    \"\"\"\n",
    "    print(\"handleArgs\",args,type(args))\n",
    "\n",
    "    print(args,type(args))\n",
    "    for arg in args:\n",
    "        print(arg)\n",
    "\n",
    "def handleBoth(*args,**kwargs):\n",
    "    print(args)\n",
    "    print(kwargs)\n",
    "        \n",
    "handleDict({'a' : 1, 'b' : 22})\n",
    "\n",
    "handleArgs(1,2,3,'4','hello')\n",
    "handleKWargs(justify = 'left',recursive = True)\n",
    "handleBoth(1,2,3,4,zip = 22, zag = 44)\n"
   ]
  },
  {
   "cell_type": "code",
   "execution_count": 111,
   "metadata": {},
   "outputs": [
    {
     "name": "stdout",
     "output_type": "stream",
     "text": [
      "21\n"
     ]
    }
   ],
   "source": [
    "def mysum(*args):\n",
    "    return sum(args)\n",
    "\n",
    "print(mysum(1,2,3,4,5,6))\n"
   ]
  },
  {
   "cell_type": "code",
   "execution_count": 127,
   "metadata": {},
   "outputs": [
    {
     "name": "stdout",
     "output_type": "stream",
     "text": [
      "[2, 4, 6, 8, 10, 12]\n"
     ]
    }
   ],
   "source": [
    "def isIntNumber(num):\n",
    "    return (type(num) == float or type(num) == int) and num == int(num)\n",
    "\n",
    "def filter_evens(*args):\n",
    "    \"\"\" returns a list of those arguments which are even\"\"\"\n",
    "    return [int(x) for x in args if isIntNumber(x) and (x % 2 == 0)]\n",
    "\n",
    "print(filter_evens(1,2.0,3,4,5,6,7,8,9,10,12,'Hello'))\n"
   ]
  },
  {
   "cell_type": "code",
   "execution_count": 126,
   "metadata": {},
   "outputs": [
    {
     "name": "stdout",
     "output_type": "stream",
     "text": [
      "True\n",
      "True\n",
      "False\n"
     ]
    }
   ],
   "source": [
    "print(isIntNumber(2)) \n",
    "print(isIntNumber(2.0)) \n",
    "print(isIntNumber(2.01)) \n",
    "\n"
   ]
  },
  {
   "cell_type": "code",
   "execution_count": 149,
   "metadata": {},
   "outputs": [
    {
     "name": "stdout",
     "output_type": "stream",
     "text": [
      "Hello --> hElLo\n"
     ]
    }
   ],
   "source": [
    "def myfunc(strn):\n",
    "    \"\"\"\n",
    "     takes a string and returns same string but with odd index letters as lowercase, even index letters\n",
    "     as uppercase\n",
    "    \"\"\"\n",
    "    return ''.join([value.lower() if (index % 2 == 0) else value.upper() for (index,value) in enumerate(strn) ])\n",
    "\n",
    "testStr = 'Hello'\n",
    "print(testStr, '-->', myfunc(testStr))\n"
   ]
  },
  {
   "cell_type": "code",
   "execution_count": 154,
   "metadata": {},
   "outputs": [
    {
     "name": "stdout",
     "output_type": "stream",
     "text": [
      "True\n",
      "False\n"
     ]
    }
   ],
   "source": [
    "def makes_twenty(n1,n2):\n",
    "    return n1 == 20 or n2 == 20 or n1 + n2 == 20\n",
    "\n",
    "print(makes_twenty(20,10))\n",
    "\n",
    "print(makes_twenty(2,3))\n"
   ]
  },
  {
   "cell_type": "code",
   "execution_count": 162,
   "metadata": {},
   "outputs": [
    {
     "name": "stdout",
     "output_type": "stream",
     "text": [
      "MacDonald\n"
     ]
    }
   ],
   "source": [
    "def old_macdonald(name):\n",
    "    \"\"\" Capitalise 1st and 4th chars in the string \"\"\"\n",
    "    return ''.join([ch.upper() if (index == 0 or index == 3) else ch  for (index,ch) in enumerate(name)])\n",
    "\n",
    "print(old_macdonald('macdonald'))\n"
   ]
  },
  {
   "cell_type": "code",
   "execution_count": 161,
   "metadata": {},
   "outputs": [
    {
     "name": "stdout",
     "output_type": "stream",
     "text": [
      "['home', 'am', 'I']\n",
      "['ready', 'are', 'We']\n"
     ]
    }
   ],
   "source": [
    "def master_yoda(text):\n",
    "    return text.split()[::-1]\n",
    "\n",
    "print(master_yoda('I am home'))\n",
    "print(master_yoda('We are ready'))\n",
    "\n"
   ]
  },
  {
   "cell_type": "code",
   "execution_count": 163,
   "metadata": {},
   "outputs": [
    {
     "name": "stdout",
     "output_type": "stream",
     "text": [
      "True\n",
      "True\n",
      "False\n",
      "True\n"
     ]
    }
   ],
   "source": [
    "\"\"\"\n",
    "#### ALMOST THERE: Given an integer n, return True if n is within 10 of either 100 or 200\n",
    "\n",
    "    almost_there(90) --> True\n",
    "    almost_there(104) --> True\n",
    "    almost_there(150) --> False\n",
    "    almost_there(209) --> True\n",
    "\"\"\"\n",
    "def almost_there(n):\n",
    "    return abs(n - 100) <= 10 or abs(n - 200) <= 10 \n",
    "\n",
    "print(almost_there(90))\n",
    "print(almost_there(104))\n",
    "print(almost_there(150))\n",
    "print(almost_there(209))\n",
    "\n"
   ]
  },
  {
   "cell_type": "code",
   "execution_count": 174,
   "metadata": {},
   "outputs": [
    {
     "name": "stdout",
     "output_type": "stream",
     "text": [
      "True\n",
      "False\n",
      "True\n"
     ]
    }
   ],
   "source": [
    "\"\"\"\n",
    "Given a list of ints, return True if the array contains a 3 next to a 3 somewhere.\n",
    "\n",
    "    has_33([1, 3, 3]) → True\n",
    "    has_33([1, 3, 1, 3]) → False\n",
    "    has_33([3, 1, 3]) → False\n",
    "\"\"\"\n",
    "\n",
    "def has_33(nums):\n",
    "    for index in range(1,len(nums)):\n",
    "        val = nums[index]\n",
    "        if (val != 3): \n",
    "            continue\n",
    "        if (val == nums[index - 1]):\n",
    "            return True\n",
    "    return False \n",
    "    \n",
    "# Check\n",
    "print(has_33([1, 3, 3]))\n",
    "\n",
    "# Check\n",
    "print(has_33([1, 3, 1, 3]))\n",
    "\n",
    "# Check\n",
    "print(has_33([3, 1, 3,1,2,2,3,3,4,5]))\n",
    "\n"
   ]
  },
  {
   "cell_type": "code",
   "execution_count": 177,
   "metadata": {},
   "outputs": [
    {
     "name": "stdout",
     "output_type": "stream",
     "text": [
      "HHHeeellllllooo\n",
      "MMMiiissssssiiissssssiiippppppiii\n"
     ]
    }
   ],
   "source": [
    "\"\"\"\n",
    "#### PAPER DOLL: Given a string, return a string where for every character in the original there are three characters\n",
    "    paper_doll('Hello') --> 'HHHeeellllllooo'\n",
    "    paper_doll('Mississippi') --> 'MMMiiissssssiiippppppiii'\n",
    "\"\"\"\n",
    "\n",
    "\n",
    "def paper_doll(text):\n",
    "    return ''.join([ ch * 3 for ch in text])\n",
    "\n",
    "print(paper_doll('Hello'))\n",
    "print(paper_doll('Mississippi'))\n"
   ]
  },
  {
   "cell_type": "code",
   "execution_count": 329,
   "metadata": {},
   "outputs": [
    {
     "name": "stdout",
     "output_type": "stream",
     "text": [
      "18\n",
      "BUST 27\n",
      "19\n",
      "21\n",
      "BUST 22\n"
     ]
    }
   ],
   "source": [
    "\"\"\"\n",
    "#### BLACKJACK: Given three integers between 1 and 11, if their sum is less than or equal to 21, return their sum. If their sum exceeds 21 *and* there's an eleven, reduce the total sum by 10. Finally, if the sum (even after adjustment) exceeds 21, return 'BUST'\n",
    "    blackjack(5,6,7) --> 18\n",
    "    blackjack(9,9,9) --> 'BUST'\n",
    "    blackjack(9,9,11) --> 19\n",
    "\"\"\"\n",
    "def blackjack(a,b,c):\n",
    "    s = sum((a,b,c))\n",
    "\n",
    "    s = s - (10 if s > 21 and 11 == a else 0)\n",
    "    s = s - (10 if s > 21 and 11 == b else 0)\n",
    "    s = s - (10 if s > 21 and 11 == c else 0)\n",
    "    \n",
    "    return s if s <= 21  else f'BUST {s}'\n",
    "\n",
    "# Check\n",
    "print(blackjack(5,6,7))\n",
    "\n",
    "# Check\n",
    "print(blackjack(9,9,9))\n",
    "\n",
    "# Check\n",
    "print(blackjack(9,9,11))\n",
    "\n",
    "print(blackjack(9,9,3))\n",
    "print(blackjack(9,9,4))\n",
    "\n"
   ]
  },
  {
   "cell_type": "code",
   "execution_count": 199,
   "metadata": {},
   "outputs": [],
   "source": [
    "\"\"\"\n",
    "#### SUMMER OF '69: Return the sum of the numbers in the array, \n",
    "except ignore sections of numbers starting with a 6 and extending to the next 9 (every 6 will be followed by at least one 9). Return 0 for no numbers.\n",
    " \n",
    "    summer_69([1, 3, 5]) --> 9\n",
    "    summer_69([4, 5, 6, 7, 8, 9]) --> 9\n",
    "    summer_69([2, 1, 6, 9, 11]) --> 14\n",
    "\"\"\"\n",
    "\n",
    "def summer_69(arr):\n",
    "    skipping = False\n",
    "    tsum = 0 \n",
    "    for v in arr:\n",
    "        if (skipping):\n",
    "            if (v == 9):\n",
    "                skipping = False\n",
    "            else:\n",
    "                continue\n",
    "        else:\n",
    "            if (v != 6):\n",
    "                tsum += v \n",
    "            else:\n",
    "                skipping = True\n",
    "            \n",
    "    return tsum\n",
    "\n",
    "\n"
   ]
  },
  {
   "cell_type": "code",
   "execution_count": 200,
   "metadata": {},
   "outputs": [
    {
     "name": "stdout",
     "output_type": "stream",
     "text": [
      "9\n"
     ]
    }
   ],
   "source": [
    "print(summer_69([1, 3, 5]))\n"
   ]
  },
  {
   "cell_type": "code",
   "execution_count": 201,
   "metadata": {},
   "outputs": [
    {
     "name": "stdout",
     "output_type": "stream",
     "text": [
      "9\n"
     ]
    }
   ],
   "source": [
    "print(summer_69([4, 5, 6, 7, 8, 9]))"
   ]
  },
  {
   "cell_type": "code",
   "execution_count": 202,
   "metadata": {},
   "outputs": [
    {
     "name": "stdout",
     "output_type": "stream",
     "text": [
      "14\n"
     ]
    }
   ],
   "source": [
    "print(summer_69([2, 1, 6, 9, 11]))"
   ]
  },
  {
   "cell_type": "code",
   "execution_count": 346,
   "metadata": {},
   "outputs": [
    {
     "name": "stdout",
     "output_type": "stream",
     "text": [
      "True\n",
      "True\n",
      "False\n"
     ]
    }
   ],
   "source": [
    "\"\"\"\n",
    "#### SPY GAME: Write a function that takes in a list of integers and returns True if it contains 007 in order\n",
    "\n",
    "     spy_game([1,2,4,0,0,7,5]) --> True\n",
    "     spy_game([1,0,2,4,0,5,7]) --> True\n",
    "     spy_game([1,7,2,0,4,5,0]) --> False\n",
    "\"\"\"\n",
    "# Wrong\n",
    "def spy_game_wrong(nums):\n",
    "    return ''.join([str(ch) for ch in nums]).find('007') > 0\n",
    "\n",
    "def spy_game(nums):\n",
    "    state = [0,0,7]\n",
    "    for ch in nums:\n",
    "        if (ch == state[0]):\n",
    "            state.pop(0)\n",
    "            if (len(state) == 0):\n",
    "                return True\n",
    "    return False \n",
    "\n",
    "print(spy_game([1,2,4,0,0,7,5]))\n",
    "print(spy_game([1,0,2,4,0,5,0,7]))\n",
    "print(spy_game([1,7,2,0,4,5,0]))\n",
    "\n"
   ]
  },
  {
   "cell_type": "code",
   "execution_count": 266,
   "metadata": {},
   "outputs": [
    {
     "name": "stdout",
     "output_type": "stream",
     "text": [
      "168\n"
     ]
    }
   ],
   "source": [
    "\n",
    "\"\"\"\n",
    "#### COUNT PRIMES: Write a function that returns the *number* of prime numbers that exist up to and including a given number\n",
    "    count_primes(100) --> 25\n",
    "\n",
    "By convention, 0 and 1 are not prime.\n",
    "\n",
    "\"\"\"\n",
    "\n",
    "def count_primes(upto):\n",
    "    numbers = [1 for x in range(0,upto+1)]\n",
    "    numbers[0] = 0\n",
    "    numbers[1] = 0\n",
    "    \n",
    "    #print(numbers)\n",
    "    \n",
    "    for index,value in enumerate(numbers):\n",
    "        if (index < 2):\n",
    "            continue\n",
    "            \n",
    "        #print(index,value)\n",
    "        for n in range(2,upto + 2):\n",
    "            if (index * n) < upto + 1:\n",
    "                numbers[index * n] = 0\n",
    "    \n",
    "    return sum(numbers)\n",
    "\n",
    "\n",
    "print(count_primes(1000))\n"
   ]
  },
  {
   "cell_type": "code",
   "execution_count": 358,
   "metadata": {},
   "outputs": [
    {
     "name": "stdout",
     "output_type": "stream",
     "text": [
      "                             *  \n",
      "                           *   *\n",
      "                           *****\n",
      "                           *   *\n",
      "                           *   *\n",
      "\n",
      "                           **** \n",
      "                           *   *\n",
      "                           **** \n",
      "                           *   *\n",
      "                           **** \n",
      "\n",
      "                           *****\n",
      "                           *    \n",
      "                           *    \n",
      "                           *    \n",
      "                           *****\n",
      "\n",
      "                           **** \n",
      "                           *   *\n",
      "                           *   *\n",
      "                           *   *\n",
      "                           **** \n",
      "\n",
      "                           *****\n",
      "                           *    \n",
      "                           *****\n",
      "                           *    \n",
      "                           *****\n"
     ]
    }
   ],
   "source": [
    "\"\"\"\n",
    "### Just for fun:\n",
    "#### PRINT BIG: Write a function that takes in a single letter, and returns a 5x5 representation of that letter\n",
    "    out:   *  \n",
    "          * *\n",
    "         *****\n",
    "         *   *\n",
    "         *   *\n",
    " \n",
    "HINT: Consider making a dictionary of possible patterns, and mapping the alphabet to specific 5-line combinations of patterns. <br>For purposes of this exercise, it's ok if your dictionary stops at \"E\".\n",
    "\"\"\"\n",
    "ch_mappings = {\n",
    "    'A': [\n",
    "        0b00100,\n",
    "        0b10001,\n",
    "        0b11111,\n",
    "        0b10001,\n",
    "        0b10001,\n",
    "    ],\n",
    "    \n",
    "    'B' : [\n",
    "        0b11110,\n",
    "        0b10001,\n",
    "        0b11110,\n",
    "        0b10001,\n",
    "        0b11110,\n",
    "    ],\n",
    "\n",
    "    'C' : [\n",
    "        0b11111,\n",
    "        0b10000,\n",
    "        0b10000,\n",
    "        0b10000,\n",
    "        0b11111,           \n",
    "    ],\n",
    "    \n",
    "    'D' : [\n",
    "        0b11110,\n",
    "        0b10001,\n",
    "        0b10001,\n",
    "        0b10001,\n",
    "        0b11110,           \n",
    "    ], \n",
    "\n",
    "    'E' : [\n",
    "        0b11111,\n",
    "        0b10000,\n",
    "        0b11111,\n",
    "        0b10000,\n",
    "        0b11111,          \n",
    "    ], \n",
    "\n",
    "}\n",
    "\n",
    "def build_string_bit_pattern(bValue):\n",
    "\n",
    "     return ''.join([' ' if x == '0' else '*' for x in '{val:032b}'.format(val = bValue)])\n",
    "#    return ''.join([' ' if x == '0' else '*' for x in format(bValue, '05b')])\n",
    "\n",
    "\n",
    "def big_letter(ch):\n",
    "    if (ch.upper() in ch_mappings):\n",
    "        bitmap = ch_mappings[ch.upper()]\n",
    "        #print(bitmap)\n",
    "        for v in bitmap:\n",
    "            bitpattern = build_string_bit_pattern(v)\n",
    "            print(bitpattern)\n",
    "            \n",
    "\n",
    "#format(14, '010b')\n",
    "#format(14, '05b')\n",
    "big_letter('a')\n",
    "print(\"\")\n",
    "big_letter('b')\n",
    "print(\"\")\n",
    "big_letter('c')\n",
    "print(\"\")\n",
    "big_letter('d')\n",
    "print(\"\")\n",
    "big_letter('e')\n"
   ]
  },
  {
   "cell_type": "code",
   "execution_count": 350,
   "metadata": {},
   "outputs": [
    {
     "name": "stdout",
     "output_type": "stream",
     "text": [
      "The Value of 'someValName' is < 0.129> - tnx\n",
      "Binary '01100100'  - tnx\n"
     ]
    }
   ],
   "source": [
    "print('The Value of \\'{myName}\\' is <{myVal:6.3f}> - tnx'.format(myVal = 100/777, myName = 'someValName'))\n",
    "print('Binary \\'{val:08b}\\'  - tnx'.format(val = 100))\n",
    "\n"
   ]
  },
  {
   "cell_type": "code",
   "execution_count": null,
   "metadata": {},
   "outputs": [],
   "source": []
  }
 ],
 "metadata": {
  "kernelspec": {
   "display_name": "Python 3",
   "language": "python",
   "name": "python3"
  },
  "language_info": {
   "codemirror_mode": {
    "name": "ipython",
    "version": 3
   },
   "file_extension": ".py",
   "mimetype": "text/x-python",
   "name": "python",
   "nbconvert_exporter": "python",
   "pygments_lexer": "ipython3",
   "version": "3.8.3"
  }
 },
 "nbformat": 4,
 "nbformat_minor": 4
}
