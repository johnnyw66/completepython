{
 "cells": [
  {
   "cell_type": "code",
   "execution_count": 11,
   "metadata": {},
   "outputs": [
    {
     "name": "stdout",
     "output_type": "stream",
     "text": [
      "(0, 1, 2, 3) <class 'tuple'>\n",
      "[0, 1, 3] <class 'list'>\n"
     ]
    }
   ],
   "source": [
    "# Tuples are like lists but they are immutable\n",
    "# Tuples use ROUND '(' ')'BRACKETS\n",
    "# They are useful for passing objects and keeping data integrity\n",
    "\n",
    "x = (0,1,2,3)\n",
    "print(x,type(x))\n",
    "\n",
    "\n",
    "# List/Array uses SQUARE '[', ']' BRACKETS\n",
    "x = [0,1,2,3]\n",
    "x.pop(2)\n",
    "print(x,type(x))\n"
   ]
  },
  {
   "cell_type": "code",
   "execution_count": null,
   "metadata": {},
   "outputs": [],
   "source": []
  },
  {
   "cell_type": "code",
   "execution_count": null,
   "metadata": {},
   "outputs": [],
   "source": []
  }
 ],
 "metadata": {
  "kernelspec": {
   "display_name": "Python 3",
   "language": "python",
   "name": "python3"
  },
  "language_info": {
   "codemirror_mode": {
    "name": "ipython",
    "version": 3
   },
   "file_extension": ".py",
   "mimetype": "text/x-python",
   "name": "python",
   "nbconvert_exporter": "python",
   "pygments_lexer": "ipython3",
   "version": "3.8.3"
  }
 },
 "nbformat": 4,
 "nbformat_minor": 4
}
