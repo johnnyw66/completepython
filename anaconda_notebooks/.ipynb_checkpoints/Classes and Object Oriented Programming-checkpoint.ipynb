{
 "cells": [
  {
   "cell_type": "code",
   "execution_count": 41,
   "metadata": {},
   "outputs": [
    {
     "name": "stdout",
     "output_type": "stream",
     "text": [
      "I am a Static Method Some Class Attribute\n",
      "Create Object\n",
      "SuperTest _init_ 25\n",
      "Draw SuperTest 25\n",
      "Draw Test\n"
     ]
    },
    {
     "data": {
      "text/plain": [
       "(22, 25, 'Some Class Attribute', 'Some Class Attribute')"
      ]
     },
     "execution_count": 41,
     "metadata": {},
     "output_type": "execute_result"
    }
   ],
   "source": [
    "class SuperTest():\n",
    "    classAttribute = 'Some Class Attribute'\n",
    "    \n",
    "    def __init__(self,y):\n",
    "        self.y = y \n",
    "        print(\"SuperTest _init_\",self.y)\n",
    "\n",
    "    def draw(self):\n",
    "        print(\"Draw SuperTest\",self.y)\n",
    "        \n",
    "class Test(SuperTest):\n",
    "\n",
    "    someClassAttribute = 'Some Class Attribute'\n",
    "    \n",
    "    def __init__(self, x):\n",
    "        print(\"Create Object\")\n",
    "        super().__init__(x + 3)\n",
    "        self.x = x\n",
    "    \n",
    "    def draw(self):\n",
    "        super().draw()\n",
    "        print(\"Draw Test\")\n",
    "\n",
    "    @staticmethod\n",
    "    def myStaticMethod():\n",
    "        print(f\"I am a Static Method '{Test.someClassAttribute}''\")\n",
    "\n",
    "        \n",
    "\n",
    "\n",
    "\n",
    "Test.myStaticMethod()\n",
    "\n",
    "test = Test(22)\n",
    "test.draw() \n",
    "test.x,test.y,Test.classAttribute,test.classAttribute\n",
    "\n",
    "\n",
    "\n",
    "    "
   ]
  },
  {
   "cell_type": "code",
   "execution_count": null,
   "metadata": {},
   "outputs": [],
   "source": []
  },
  {
   "cell_type": "code",
   "execution_count": null,
   "metadata": {},
   "outputs": [],
   "source": []
  }
 ],
 "metadata": {
  "kernelspec": {
   "display_name": "Python 3",
   "language": "python",
   "name": "python3"
  },
  "language_info": {
   "codemirror_mode": {
    "name": "ipython",
    "version": 3
   },
   "file_extension": ".py",
   "mimetype": "text/x-python",
   "name": "python",
   "nbconvert_exporter": "python",
   "pygments_lexer": "ipython3",
   "version": "3.8.3"
  }
 },
 "nbformat": 4,
 "nbformat_minor": 4
}
