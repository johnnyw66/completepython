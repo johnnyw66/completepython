{
 "cells": [
  {
   "cell_type": "markdown",
   "metadata": {},
   "source": [
    "\"\"\"\n",
    "Order for variable name scope\n",
    " L - Locals defined within a def function or lambda function\n",
    " E - Enclosing function 'def'\n",
    " G - Global \n",
    " B - Built In Python functions\n",
    "\"\"\"\n",
    "\n"
   ]
  },
  {
   "cell_type": "code",
   "execution_count": 26,
   "metadata": {},
   "outputs": [
    {
     "name": "stdout",
     "output_type": "stream",
     "text": [
      "Greeting Eddy (Enclosing function) len - redefned as a string - Do not do this\n",
      "Welcome.Hi  Lenny (Local)\n",
      "Bye Bye! Gordon (Global)\n",
      "<built-in function len>\n"
     ]
    }
   ],
   "source": [
    "# 'name' here is at the 'G'lobal level\n",
    "name = 'Gordon (Global)'\n",
    "levels = ['L','E','G']\n",
    "\n",
    "level = levels[0]\n",
    "\n",
    "def greet(msg):\n",
    "    \n",
    "    \n",
    "    def hello():\n",
    "        # 'name' variable is 'L'ocal\n",
    "        name = 'Lenny (Local)'\n",
    "        print(f\"{msg}.Hi  {name}\") \n",
    "    # 'name' variable here is in the 'E'nclosing function'\n",
    "\n",
    "    len = 'len - redefned as a string - Do not do this'\n",
    "    name = 'Eddy (Enclosing function)'\n",
    "    print(f\"Greeting {name} {len}\")\n",
    "    hello()\n",
    "\n",
    "greet('Welcome')\n",
    "print(f\"Bye Bye! {name}\")\n",
    "print(len)\n"
   ]
  },
  {
   "cell_type": "code",
   "execution_count": null,
   "metadata": {},
   "outputs": [],
   "source": []
  },
  {
   "cell_type": "code",
   "execution_count": null,
   "metadata": {},
   "outputs": [],
   "source": []
  },
  {
   "cell_type": "code",
   "execution_count": null,
   "metadata": {},
   "outputs": [],
   "source": []
  }
 ],
 "metadata": {
  "kernelspec": {
   "display_name": "Python 3",
   "language": "python",
   "name": "python3"
  },
  "language_info": {
   "codemirror_mode": {
    "name": "ipython",
    "version": 3
   },
   "file_extension": ".py",
   "mimetype": "text/x-python",
   "name": "python",
   "nbconvert_exporter": "python",
   "pygments_lexer": "ipython3",
   "version": "3.8.3"
  }
 },
 "nbformat": 4,
 "nbformat_minor": 4
}
