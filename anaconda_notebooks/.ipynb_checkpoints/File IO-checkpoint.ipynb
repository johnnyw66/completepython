{
 "cells": [
  {
   "cell_type": "code",
   "execution_count": 76,
   "metadata": {},
   "outputs": [
    {
     "data": {
      "text/plain": [
       "'/Users/johnny/anaconda_notebooks'"
      ]
     },
     "execution_count": 76,
     "metadata": {},
     "output_type": "execute_result"
    }
   ],
   "source": [
    "pwd"
   ]
  },
  {
   "cell_type": "code",
   "execution_count": 77,
   "metadata": {},
   "outputs": [
    {
     "name": "stdout",
     "output_type": "stream",
     "text": [
      "Overwriting mypythontextfile.txt\n"
     ]
    }
   ],
   "source": [
    "%%writefile mypythontextfile.txt\n",
    "Hello this is a text file - line1\n",
    "I hope this works - line2 \n",
    "If it does - line3\n",
    "If it does - line4\n",
    "If it does - line5\n",
    "If it does. - line6\n",
    "If it does - line7\n",
    "If it does - line8\n",
    "DOG, CAT \n",
    "It's a miracle -\n",
    "This is the last line!!\n"
   ]
  },
  {
   "cell_type": "code",
   "execution_count": 78,
   "metadata": {},
   "outputs": [
    {
     "name": "stdout",
     "output_type": "stream",
     "text": [
      "Hello this is a text file - line1\n",
      "I hope this works - line2 \n",
      "If it does - line3\n",
      "If it does - line4\n",
      "If it does - line5\n",
      "If it does. - line6\n",
      "If it does - line7\n",
      "If it does - line8\n",
      "DOG, CAT \n",
      "It's a miracle -\n",
      "This is the last line!!\n",
      "\n",
      "['Hello', 'this', 'is', 'a', 'text', 'file', '-', 'line1', 'I', 'hope', 'this', 'works', '-', 'line2', 'If', 'it', 'does', '-', 'line3', 'If', 'it', 'does', '-', 'line4', 'If', 'it', 'does', '-', 'line5', 'If', 'it', 'does.', '-', 'line6', 'If', 'it', 'does', '-', 'line7', 'If', 'it', 'does', '-', 'line8', 'DOG,', 'CAT', \"It's\", 'a', 'miracle', '-', 'This', 'is', 'the', 'last', 'line!!']\n",
      "{'line5', 'is', 'does.', 'hope', 'line1', 'If', 'does', 'CAT', 'I', 'Hello', 'line7', 'line!!', 'This', 'DOG,', 'line2', 'the', 'line3', 'file', 'works', \"It's\", 'it', 'text', 'line8', 'miracle', 'a', 'this', 'last', 'line4', '-', 'line6'}\n"
     ]
    }
   ],
   "source": [
    "import os\n",
    "cwd = os.getcwd()\n",
    "\n",
    "f = open(cwd + '/mypythontextfile.txt',mode='r')\n",
    "txt = f.read()\n",
    "f.seek(0)  #Reset File Ptr to start of file (shown here, for demo purposes only)\n",
    "\n",
    "print(txt)\n",
    "print(txt.split())\n",
    "\n",
    "txtSet = set(txt.split())\n",
    "print(txtSet)"
   ]
  },
  {
   "cell_type": "code",
   "execution_count": 45,
   "metadata": {},
   "outputs": [],
   "source": [
    "f.close()"
   ]
  },
  {
   "cell_type": "code",
   "execution_count": 34,
   "metadata": {},
   "outputs": [
    {
     "name": "stdout",
     "output_type": "stream",
     "text": [
      "<_io.TextIOWrapper name='/Users/johnny/anaconda_notebooks/mypythontextfile.txt' mode='r' encoding='UTF-8'>\n"
     ]
    }
   ],
   "source": [
    "print(f)"
   ]
  },
  {
   "cell_type": "code",
   "execution_count": 88,
   "metadata": {},
   "outputs": [
    {
     "name": "stdout",
     "output_type": "stream",
     "text": [
      "/Users/johnny/anaconda_notebooks/mypythontextfile.txt\n",
      "<_io.TextIOWrapper name='/Users/johnny/anaconda_notebooks/mypythontextfile.txt' mode='r' encoding='UTF-8'>\n",
      "<<<<Finish up with IO stuff>>>>\n",
      "Content ['Hello this is a text file - line1\\n', 'I hope this works - line2 \\n', 'If it does - line3\\n', 'If it does - line4\\n', 'If it does - line5\\n', 'If it does. - line6\\n', 'If it does - line7\\n', 'If it does - line8\\n', 'DOG, CAT \\n', \"It's a miracle -\\n\", 'This is the last line!!\\n']\n"
     ]
    }
   ],
   "source": [
    "#import io\n",
    "\n",
    "# No need to close when using 'with'\n",
    "filename = os.getcwd() + '/' + 'mypythontextfile.txt'\n",
    "print(filename)\n",
    "try:\n",
    "    # modes {'r','w','r+','w+','a'}  'a' == append (to existing file) r+ and w+ create new files if needed.\n",
    "    \n",
    "    fmode = 'r' \n",
    "    with open(filename,mode=fmode) as fhndlr:\n",
    "        print(fhndlr)\n",
    "        content = fhndlr.readlines()\n",
    "\n",
    "except UnsupportedOperation as e:\n",
    "    print(f\"We have an Error '{e}'\")\n",
    "finally:\n",
    "    print(\"<<<<Finish up with IO stuff>>>>\")\n",
    "\n",
    "print(\"Content\",content)\n",
    "\n",
    "    \n"
   ]
  },
  {
   "cell_type": "code",
   "execution_count": 96,
   "metadata": {},
   "outputs": [
    {
     "name": "stdout",
     "output_type": "stream",
     "text": [
      "/Users/johnny/anaconda_notebooks/mypywritetest2.txt\n",
      "<<<<Finish up with IO Write stuff>>>>\n"
     ]
    }
   ],
   "source": [
    "filename = os.getcwd() + '/' + 'mypywritetest2.txt'\n",
    "print(filename)\n",
    "try:\n",
    "    # modes {'r','w','r+','w+','a'}  'a' == append (to existing file) r+ and w+ read/overwrite existing files ('+' create if needed)\n",
    "    \n",
    "    fmode = 'a' \n",
    "    with open(filename,mode=fmode) as fhndlr:\n",
    "        fhndlr.write('Hello\\n')\n",
    "        fhndlr.write('World\\n')\n",
    "\n",
    "\n",
    "except UnsupportedOperation as e:\n",
    "    print(f\"We have an Error '{e}'\")\n",
    "finally:\n",
    "    print(\"<<<<Finish up with IO Write stuff>>>>\")\n",
    "\n"
   ]
  },
  {
   "cell_type": "code",
   "execution_count": 104,
   "metadata": {},
   "outputs": [
    {
     "name": "stdout",
     "output_type": "stream",
     "text": [
      "[0, 0, 0, 0]\n"
     ]
    }
   ],
   "source": [
    "x = [0] * 3\n",
    "\n",
    "print(x)"
   ]
  },
  {
   "cell_type": "code",
   "execution_count": 106,
   "metadata": {},
   "outputs": [
    {
     "name": "stdout",
     "output_type": "stream",
     "text": [
      "[1, 2, [3, 4, 'goodbye']]\n"
     ]
    }
   ],
   "source": [
    "list3 = [1,2,[3,4,'hello']]\n",
    "\n",
    "list3[2][2]='goodbye'\n",
    "print(list3)\n"
   ]
  },
  {
   "cell_type": "code",
   "execution_count": 107,
   "metadata": {},
   "outputs": [
    {
     "data": {
      "text/plain": [
       "'hello'"
      ]
     },
     "execution_count": 107,
     "metadata": {},
     "output_type": "execute_result"
    }
   ],
   "source": [
    "d = {'k1':[{'nest_key':['this is deep',['hello']]}]}\n",
    "d['k1'][0]['nest_key'][1][0]\n"
   ]
  },
  {
   "cell_type": "code",
   "execution_count": 109,
   "metadata": {},
   "outputs": [
    {
     "name": "stdout",
     "output_type": "stream",
     "text": [
      "[1, 3, 4, 5, 6]\n"
     ]
    }
   ],
   "source": [
    "list4 = [5,3,4,6,1]\n",
    "list4.sort()\n",
    "print(list4)"
   ]
  },
  {
   "cell_type": "code",
   "execution_count": 110,
   "metadata": {},
   "outputs": [
    {
     "data": {
      "text/plain": [
       "'hello'"
      ]
     },
     "execution_count": 110,
     "metadata": {},
     "output_type": "execute_result"
    }
   ],
   "source": [
    "d = {'k1':[1,2,{'k2':['this is tricky',{'tough':[1,2,['hello']]}]}]}\n",
    "d['k1'][2]['k2'][1]['tough'][2][0]\n"
   ]
  },
  {
   "cell_type": "code",
   "execution_count": 111,
   "metadata": {},
   "outputs": [
    {
     "name": "stdout",
     "output_type": "stream",
     "text": [
      "{1, 2, 33, 4, 3, 11, 22}\n"
     ]
    }
   ],
   "source": [
    "list5 = [1,2,2,33,4,4,11,22,3,3,2]\n",
    "u = set(list5)\n",
    "print(u)"
   ]
  },
  {
   "cell_type": "code",
   "execution_count": null,
   "metadata": {},
   "outputs": [],
   "source": []
  }
 ],
 "metadata": {
  "kernelspec": {
   "display_name": "Python 3",
   "language": "python",
   "name": "python3"
  },
  "language_info": {
   "codemirror_mode": {
    "name": "ipython",
    "version": 3
   },
   "file_extension": ".py",
   "mimetype": "text/x-python",
   "name": "python",
   "nbconvert_exporter": "python",
   "pygments_lexer": "ipython3",
   "version": "3.8.3"
  }
 },
 "nbformat": 4,
 "nbformat_minor": 4
}
