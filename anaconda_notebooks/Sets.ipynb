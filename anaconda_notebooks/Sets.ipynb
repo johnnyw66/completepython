{
 "cells": [
  {
   "cell_type": "code",
   "execution_count": 25,
   "metadata": {},
   "outputs": [
    {
     "name": "stdout",
     "output_type": "stream",
     "text": [
      "{1, 2}\n",
      "{1, 2, 3}\n",
      "{'s', 'p', 'M', 'i'}\n"
     ]
    }
   ],
   "source": [
    "# Sets are UNORDERED collections - with UNIQUE elements/members\n",
    "#\n",
    "x = set()\n",
    "x.add(2)\n",
    "x.add(1)\n",
    "print(x)\n",
    "x = set([1,2,2,2,2,2,2,3]) \n",
    "print(x)\n",
    "print(set('Mississippi'))\n",
    "\n"
   ]
  },
  {
   "cell_type": "code",
   "execution_count": null,
   "metadata": {},
   "outputs": [],
   "source": []
  }
 ],
 "metadata": {
  "kernelspec": {
   "display_name": "Python 3",
   "language": "python",
   "name": "python3"
  },
  "language_info": {
   "codemirror_mode": {
    "name": "ipython",
    "version": 3
   },
   "file_extension": ".py",
   "mimetype": "text/x-python",
   "name": "python",
   "nbconvert_exporter": "python",
   "pygments_lexer": "ipython3",
   "version": "3.8.3"
  }
 },
 "nbformat": 4,
 "nbformat_minor": 4
}
