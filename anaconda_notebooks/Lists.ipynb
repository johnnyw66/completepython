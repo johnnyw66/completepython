{
 "cells": [
  {
   "cell_type": "code",
   "execution_count": 15,
   "metadata": {},
   "outputs": [
    {
     "name": "stdout",
     "output_type": "stream",
     "text": [
      "['Mike', 'John', 'Sue', 'Paul']\n",
      "Reversed ['Paul', 'Sue', 'John', 'Mike']\n",
      "['John', 'Mike', 'Paul', 'Sue']\n",
      "Pop last item Sue\n",
      "List after popping last item ['John', 'Mike', 'Paul']\n",
      "Pop first item John\n",
      "List after popping 1st item ['Mike', 'Paul']\n",
      "After appending  ['Mike', 'Paul', 'Joan']\n",
      "['Joan', 'Mike', 'Paul']\n"
     ]
    }
   ],
   "source": [
    "myList = ['Mike','John','Sue','Paul']\n",
    "print(myList)\n",
    "reversedMyList = myList[::-1]\n",
    "print(\"Reversed\",reversedMyList)\n",
    "\n",
    "# Note: Lists are mutable\n",
    "myList.sort()\n",
    "print(myList)\n",
    "# List.pop() function is equivalent to List.pop(-1) - i.e take last one off\n",
    "print(\"Pop last item\",myList.pop())\n",
    "print(\"List after popping last item\",myList)\n",
    "print(\"Pop first item\",myList.pop(0))\n",
    "print(\"List after popping 1st item\",myList)\n",
    "myList.append('Joan')\n",
    "print(\"After appending \", myList)\n",
    "myList.sort()\n",
    "print(myList)\n",
    "\n",
    "\n"
   ]
  },
  {
   "cell_type": "code",
   "execution_count": null,
   "metadata": {},
   "outputs": [],
   "source": []
  }
 ],
 "metadata": {
  "kernelspec": {
   "display_name": "Python 3",
   "language": "python",
   "name": "python3"
  },
  "language_info": {
   "codemirror_mode": {
    "name": "ipython",
    "version": 3
   },
   "file_extension": ".py",
   "mimetype": "text/x-python",
   "name": "python",
   "nbconvert_exporter": "python",
   "pygments_lexer": "ipython3",
   "version": "3.8.3"
  }
 },
 "nbformat": 4,
 "nbformat_minor": 4
}
