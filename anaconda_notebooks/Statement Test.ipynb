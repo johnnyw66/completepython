{
 "cells": [
  {
   "cell_type": "code",
   "execution_count": 2,
   "metadata": {},
   "outputs": [
    {
     "name": "stdout",
     "output_type": "stream",
     "text": [
      "['start', 's', 'sentence']\n",
      "['start', 's', 'sentence']\n"
     ]
    }
   ],
   "source": [
    "#Code here\n",
    "st = 'Print only the words that start with s in this sentence'\n",
    "myList = [ word for word in st.split() if word[0] == 's']\n",
    "print(myList)\n",
    "\n",
    "# Alternative way\n",
    "myList2 = []\n",
    "for word in st.split():\n",
    "    if (word[0] == 's'):\n",
    "        myList2.append(word)\n",
    "\n",
    "print(myList2)\n"
   ]
  },
  {
   "cell_type": "code",
   "execution_count": 12,
   "metadata": {},
   "outputs": [
    {
     "name": "stdout",
     "output_type": "stream",
     "text": [
      "[0, 2, 4, 6, 8, 10]\n",
      "0\n",
      "2\n",
      "4\n",
      "6\n",
      "8\n",
      "10\n",
      "Alternative 2\n",
      "0\n",
      "2\n",
      "4\n",
      "6\n",
      "8\n",
      "10\n",
      "Alternative 3\n",
      "0\n",
      "2\n",
      "4\n",
      "6\n",
      "8\n",
      "10\n"
     ]
    }
   ],
   "source": [
    "#**Use range() to print all the even numbers from 0 to 10.**\n",
    "#print(list(range(0,11,2)))\n",
    "_=[print(x) for x in range(0,11,2)]\n",
    "\n",
    "print(\"Alternative 2\")\n",
    "_=[print(x) for x in range(0,11) if (not x % 2)]\n",
    "\n",
    "print(\"Alternative 3\")\n",
    "for x in range(0,11,2):\n",
    "    print(x)\n",
    "    \n"
   ]
  },
  {
   "cell_type": "code",
   "execution_count": 17,
   "metadata": {},
   "outputs": [
    {
     "name": "stdout",
     "output_type": "stream",
     "text": [
      "[3, 6, 9, 12, 15, 18, 21, 24, 27, 30, 33, 36, 39, 42, 45, 48]\n"
     ]
    }
   ],
   "source": [
    "#**Use a List Comprehension to create a list of all numbers between 1 and 50 that are divisible by 3.**\n",
    "myList = [num for num in range(1,51) if (num % 3 == 0)]\n",
    "print(myList)"
   ]
  },
  {
   "cell_type": "code",
   "execution_count": 20,
   "metadata": {},
   "outputs": [
    {
     "name": "stdout",
     "output_type": "stream",
     "text": [
      "Print odd\n",
      "every odd\n",
      "word even\n",
      "in even\n",
      "this even\n",
      "sentence even\n",
      "that even\n",
      "has odd\n",
      "an even\n",
      "even even\n",
      "number even\n",
      "of even\n",
      "letters odd\n",
      "\n",
      "***Alternative***\n",
      "\n",
      "Print\n",
      "every\n",
      "EVEN\n",
      "EVEN\n",
      "EVEN\n",
      "EVEN\n",
      "EVEN\n",
      "has\n",
      "EVEN\n",
      "EVEN\n",
      "EVEN\n",
      "EVEN\n",
      "letters\n"
     ]
    }
   ],
   "source": [
    "#**Go through the string below and if the length of a word is even print \"even!\"**\n",
    "st = 'Print every word in this sentence that has an even number of letters'\n",
    "for word in st.split():\n",
    "    if (len(word) % 2 == 0):\n",
    "        print(word,\"even\")\n",
    "    else:\n",
    "        print(word,\"odd\")\n",
    "        \n",
    "print(\"\\n***Alternative***\\n\")\n",
    "\n",
    "_=[print('EVEN') if (len(word) % 2 == 0) else print(word) for word in st.split() ]\n"
   ]
  },
  {
   "cell_type": "code",
   "execution_count": 32,
   "metadata": {},
   "outputs": [
    {
     "name": "stdout",
     "output_type": "stream",
     "text": [
      "1\n",
      "2\n",
      "Fizz\n",
      "4\n",
      "Buzz\n",
      "Fizz\n",
      "7\n",
      "8\n",
      "Fizz\n",
      "Buzz\n",
      "11\n",
      "Fizz\n",
      "13\n",
      "14\n",
      "FizzBuzz\n",
      "16\n",
      "17\n",
      "Fizz\n",
      "19\n",
      "Buzz\n",
      "Fizz\n",
      "22\n",
      "23\n",
      "Fizz\n",
      "Buzz\n",
      "26\n",
      "Fizz\n",
      "28\n",
      "29\n",
      "FizzBuzz\n",
      "31\n",
      "32\n",
      "Fizz\n",
      "34\n",
      "Buzz\n",
      "Fizz\n",
      "37\n",
      "38\n",
      "Fizz\n",
      "Buzz\n",
      "41\n",
      "Fizz\n",
      "43\n",
      "44\n",
      "FizzBuzz\n",
      "46\n",
      "47\n",
      "Fizz\n",
      "49\n",
      "Buzz\n",
      "Fizz\n",
      "52\n",
      "53\n",
      "Fizz\n",
      "Buzz\n",
      "56\n",
      "Fizz\n",
      "58\n",
      "59\n",
      "FizzBuzz\n",
      "61\n",
      "62\n",
      "Fizz\n",
      "64\n",
      "Buzz\n",
      "Fizz\n",
      "67\n",
      "68\n",
      "Fizz\n",
      "Buzz\n",
      "71\n",
      "Fizz\n",
      "73\n",
      "74\n",
      "FizzBuzz\n",
      "76\n",
      "77\n",
      "Fizz\n",
      "79\n",
      "Buzz\n",
      "Fizz\n",
      "82\n",
      "83\n",
      "Fizz\n",
      "Buzz\n",
      "86\n",
      "Fizz\n",
      "88\n",
      "89\n",
      "FizzBuzz\n",
      "91\n",
      "92\n",
      "Fizz\n",
      "94\n",
      "Buzz\n",
      "Fizz\n",
      "97\n",
      "98\n",
      "Fizz\n",
      "Buzz\n"
     ]
    }
   ],
   "source": [
    "\"\"\"\n",
    "**Write a program that prints the integers from 1 to 100. But for multiples of three print \"Fizz\" \n",
    "instead of the number, and for the multiples of five print \"Buzz\". \n",
    "For numbers which are multiples of both three and five print \"FizzBuzz\".**\n",
    "\"\"\"\n",
    "def fizzBuzz(num):\n",
    "    if (num % 15 == 0): \n",
    "        print('FizzBuzz') \n",
    "    elif (num % 3 == 0): \n",
    "        print('Fizz') \n",
    "    elif (num % 5 == 0):\n",
    "        print('Buzz') \n",
    "    else:\n",
    "        print(num)\n",
    "    \n",
    "\n",
    "#_=[ fizzBuzz(num) for num in range(1,101)]\n",
    "\n",
    "#_=[ print('FizzBuzz') if (num % 15 == 0) else print('Fizz') if (num % 3 == 0) else print('Buzz') if (num % 5 == 0) else print(num) for num in range(1,101)]\n",
    "\n",
    "for num in range(1,101):\n",
    "    fizzBuzz(num)\n"
   ]
  },
  {
   "cell_type": "code",
   "execution_count": 35,
   "metadata": {},
   "outputs": [
    {
     "name": "stdout",
     "output_type": "stream",
     "text": [
      "['C', 'a', 'l', 'o', 't', 'f', 'l', 'o', 'e', 'w', 'i', 't', 's']\n",
      "['s', 't', 'i', 'w', 'e', 'o', 'l', 'f', 't', 'o', 'l', 'a', 'C']\n"
     ]
    }
   ],
   "source": [
    "\"\"\"\n",
    "**Use List Comprehension to create a list of the first letters of every word in the string below:**\n",
    "\"\"\"\n",
    "\n",
    "st = 'Create a list of the first letters of every word in this string'\n",
    "\n",
    "myList = [word[0] for word in st.split()]\n",
    "print(myList)\n",
    "\n",
    "myListReversed = [word[0] for word in st.split()][::-1]\n",
    "print(myListReversed)\n"
   ]
  },
  {
   "cell_type": "code",
   "execution_count": null,
   "metadata": {},
   "outputs": [],
   "source": []
  }
 ],
 "metadata": {
  "kernelspec": {
   "display_name": "Python 3",
   "language": "python",
   "name": "python3"
  },
  "language_info": {
   "codemirror_mode": {
    "name": "ipython",
    "version": 3
   },
   "file_extension": ".py",
   "mimetype": "text/x-python",
   "name": "python",
   "nbconvert_exporter": "python",
   "pygments_lexer": "ipython3",
   "version": "3.8.3"
  }
 },
 "nbformat": 4,
 "nbformat_minor": 4
}
