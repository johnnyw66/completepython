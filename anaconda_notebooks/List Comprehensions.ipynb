{
 "cells": [
  {
   "cell_type": "code",
   "execution_count": 4,
   "metadata": {},
   "outputs": [
    {
     "name": "stdout",
     "output_type": "stream",
     "text": [
      "['H', 'e', 'l', 'l', 'o', ' ', 'W', 'o', 'r', 'l', 'd']\n",
      "['H', 'e', 'l', 'l', 'o', ' ', 'W', 'o', 'r', 'l', 'd']\n"
     ]
    }
   ],
   "source": [
    "# List comprehensions - are a quick way of creating lists in Python\n",
    "# Useful for getting rid if for loops with inner 'appends' to create lists\n",
    "# Eg.\n",
    "myString = 'Hello World'\n",
    "myList = []\n",
    "\n",
    "for char in myString:\n",
    "    myList.append(char)\n",
    "\n",
    "print(myList)\n",
    "\n",
    "myList2 = [ch for ch in 'Hello World']\n",
    "print(myList2)"
   ]
  },
  {
   "cell_type": "code",
   "execution_count": 12,
   "metadata": {},
   "outputs": [
    {
     "name": "stdout",
     "output_type": "stream",
     "text": [
      "[0, 1, 2, 3, 4, 5, 6, 7, 8, 9]\n",
      "[0, 2, 4, 6, 8, 10, 12, 14, 16, 18]\n",
      "[0, 2, 4, 6, 8, 10, 12, 14, 16, 18]\n",
      "[0, 2, 4, 6, 8, 12, 14, 16, 18]\n",
      "[0, 'UG!', 4, 'UG!', 8, 'UG!', 12, 'UG!', 16, 'UG!']\n"
     ]
    }
   ],
   "source": [
    "# List comprehension with numbers\n",
    "myList = [num for num in range(0,10)]\n",
    "print(myList)\n",
    "\n",
    "myList = [num * 2 for num in range(0,10)]\n",
    "print(myList)\n",
    "\n",
    "\n",
    "def someFunc(val):\n",
    "    return val * 2\n",
    "\n",
    "myList2 = [someFunc(num) for num in range(0,10)]\n",
    "print(myList2)\n",
    "\n",
    "# Add a condition  LOOKS UGLY!!\n",
    "myList3 = [someFunc(num) for num in range(0,10) if num != 5]\n",
    "print(myList3)\n",
    "\n",
    "# Add a if else condition  LOOKS VERY UGLY!!\n",
    "myList4 = [someFunc(num) if num % 2 == 0 else 'UG!' for num in range(0,10)]\n",
    "print(myList4)\n"
   ]
  },
  {
   "cell_type": "code",
   "execution_count": 18,
   "metadata": {},
   "outputs": [
    {
     "name": "stdout",
     "output_type": "stream",
     "text": [
      "[1000, 2000, 3000, 2000, 4000, 6000, 3000, 6000, 9000]\n",
      "[1000, 2000, 3000, 2000, 4000, 6000, 3000, 6000, 9000]\n",
      "True\n"
     ]
    }
   ],
   "source": [
    "# Inner loops\n",
    "myList = []\n",
    "\n",
    "for x in [1,2,3]:\n",
    "    for y in [1000,2000,3000]:\n",
    "        myList.append(x * y)\n",
    "        \n",
    "print(myList)\n",
    "\n",
    "# UGLY!\n",
    "myList2 = [ x * y for x in [1,2,3] for y in [1000,2000,3000]]\n",
    "print(myList2)\n"
   ]
  },
  {
   "cell_type": "code",
   "execution_count": null,
   "metadata": {},
   "outputs": [],
   "source": []
  }
 ],
 "metadata": {
  "kernelspec": {
   "display_name": "Python 3",
   "language": "python",
   "name": "python3"
  },
  "language_info": {
   "codemirror_mode": {
    "name": "ipython",
    "version": 3
   },
   "file_extension": ".py",
   "mimetype": "text/x-python",
   "name": "python",
   "nbconvert_exporter": "python",
   "pygments_lexer": "ipython3",
   "version": "3.8.3"
  }
 },
 "nbformat": 4,
 "nbformat_minor": 4
}
