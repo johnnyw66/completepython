{
 "cells": [
  {
   "cell_type": "code",
   "execution_count": 10,
   "metadata": {},
   "outputs": [
    {
     "name": "stdout",
     "output_type": "stream",
     "text": [
      "<class 'bool'>\n",
      "<class 'bool'>\n",
      "<class 'bool'>\n",
      "True\n",
      "False is False\n",
      "True is True\n"
     ]
    }
   ],
   "source": [
    "\n",
    "fbool = False\n",
    "tbool = True\n",
    "print(type(fbool))\n",
    "print(type(tbool))\n",
    "print(type(False))\n",
    "\n",
    "if (bool):\n",
    "    print(\"True\")\n",
    "else: \n",
    "    print(\"False\")\n",
    "\n",
    "# : ? Java/C/C++ equiv\n",
    "strfBool = 'is True' if fbool else 'is False'\n",
    "strtBool = 'is True' if tbool else 'is False'\n",
    "\n",
    "print(fbool, strfBool)\n",
    "print(tbool, strtBool)\n",
    "\n"
   ]
  },
  {
   "cell_type": "code",
   "execution_count": null,
   "metadata": {},
   "outputs": [],
   "source": []
  },
  {
   "cell_type": "code",
   "execution_count": null,
   "metadata": {},
   "outputs": [],
   "source": []
  }
 ],
 "metadata": {
  "kernelspec": {
   "display_name": "Python 3",
   "language": "python",
   "name": "python3"
  },
  "language_info": {
   "codemirror_mode": {
    "name": "ipython",
    "version": 3
   },
   "file_extension": ".py",
   "mimetype": "text/x-python",
   "name": "python",
   "nbconvert_exporter": "python",
   "pygments_lexer": "ipython3",
   "version": "3.8.3"
  }
 },
 "nbformat": 4,
 "nbformat_minor": 4
}
